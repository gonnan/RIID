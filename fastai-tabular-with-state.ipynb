{
 "cells": [
  {
   "cell_type": "markdown",
   "metadata": {
    "papermill": {
     "duration": 0.015702,
     "end_time": "2020-12-11T20:15:23.880469",
     "exception": false,
     "start_time": "2020-12-11T20:15:23.864767",
     "status": "completed"
    },
    "tags": []
   },
   "source": [
    "### Introduction\n",
    "\n",
    "This is the best I could do with a fastai tabular model. It contains a number of features particular to both the user and the question at that point in time. Then for inference there is a dictionary filled with each user's history and their current state. This helped dramatically in improving my LB score. I did pull code from a bunch of different notebooks, so I'll reference the original material as it comes up. \n",
    "\n",
    "A big problem with using a fastai tabular model is building the TabularPandas during inference. It takes way too long with certain categorical features, so we just can't use them. In training I was able to use user_id as a categorical feature, which seemed really useful. But it's too slow to use during inference.\n",
    "\n",
    "A big thanks to all the users out there sharing kernels, I've learned a ton from these notebooks and this competition. "
   ]
  },
  {
   "cell_type": "code",
   "execution_count": 1,
   "metadata": {
    "_cell_guid": "79c7e3d0-c299-4dcb-8224-4455121ee9b0",
    "_uuid": "d629ff2d2480ee46fbb7e2d37f6b5fab8052498a",
    "execution": {
     "iopub.execute_input": "2020-12-11T20:15:23.916929Z",
     "iopub.status.busy": "2020-12-11T20:15:23.916110Z",
     "iopub.status.idle": "2020-12-11T20:15:27.227118Z",
     "shell.execute_reply": "2020-12-11T20:15:27.226478Z"
    },
    "papermill": {
     "duration": 3.331479,
     "end_time": "2020-12-11T20:15:27.227267",
     "exception": false,
     "start_time": "2020-12-11T20:15:23.895788",
     "status": "completed"
    },
    "tags": []
   },
   "outputs": [],
   "source": [
    "from sklearn.metrics import roc_auc_score     \n",
    "from fastai.tabular.all import *\n",
    "import gc\n",
    "import fastai\n",
    "from tqdm.notebook import tqdm as tqdm"
   ]
  },
  {
   "cell_type": "code",
   "execution_count": 2,
   "metadata": {
    "execution": {
     "iopub.execute_input": "2020-12-11T20:15:27.265384Z",
     "iopub.status.busy": "2020-12-11T20:15:27.264504Z",
     "iopub.status.idle": "2020-12-11T20:15:27.269794Z",
     "shell.execute_reply": "2020-12-11T20:15:27.268838Z"
    },
    "papermill": {
     "duration": 0.027428,
     "end_time": "2020-12-11T20:15:27.269949",
     "exception": false,
     "start_time": "2020-12-11T20:15:27.242521",
     "status": "completed"
    },
    "tags": []
   },
   "outputs": [],
   "source": [
    "def seed_everything(seed=0):\n",
    "    random.seed(seed)\n",
    "    np.random.seed(seed)\n",
    "    \n",
    "seed_everything(42)"
   ]
  },
  {
   "cell_type": "markdown",
   "metadata": {
    "papermill": {
     "duration": 0.021987,
     "end_time": "2020-12-11T20:15:27.314954",
     "exception": false,
     "start_time": "2020-12-11T20:15:27.292967",
     "status": "completed"
    },
    "tags": []
   },
   "source": [
    "### Initial Load"
   ]
  },
  {
   "cell_type": "code",
   "execution_count": 3,
   "metadata": {
    "execution": {
     "iopub.execute_input": "2020-12-11T20:15:27.367648Z",
     "iopub.status.busy": "2020-12-11T20:15:27.366921Z",
     "iopub.status.idle": "2020-12-11T20:15:52.611448Z",
     "shell.execute_reply": "2020-12-11T20:15:52.610573Z"
    },
    "papermill": {
     "duration": 25.27409,
     "end_time": "2020-12-11T20:15:52.611630",
     "exception": false,
     "start_time": "2020-12-11T20:15:27.337540",
     "status": "completed"
    },
    "tags": []
   },
   "outputs": [
    {
     "name": "stdout",
     "output_type": "stream",
     "text": [
      "<class 'pandas.core.frame.DataFrame'>\n",
      "RangeIndex: 99271300 entries, 0 to 99271299\n",
      "Data columns (total 11 columns):\n",
      " #   Column                          Dtype  \n",
      "---  ------                          -----  \n",
      " 0   user_id                         int32  \n",
      " 1   content_id                      int16  \n",
      " 2   answered_correctly              int8   \n",
      " 3   prior_question_elapsed_time     float32\n",
      " 4   prior_question_had_explanation  bool   \n",
      " 5   attempts                        int8   \n",
      " 6   user_correctness                float32\n",
      " 7   user_count                      int16  \n",
      " 8   content_correctness             float32\n",
      " 9   content_count                   int32  \n",
      " 10  hmean_user_content              float32\n",
      "dtypes: bool(1), float32(4), int16(2), int32(2), int8(2)\n",
      "memory usage: 2.9 GB\n",
      "CPU times: user 2.67 s, sys: 16.2 s, total: 18.9 s\n",
      "Wall time: 25.2 s\n"
     ]
    }
   ],
   "source": [
    "%%time\n",
    "\n",
    "train_df = pd.read_feather('/kaggle/input/riid-with-attempts-feather/train_with_attempts')\n",
    "# The dataframe is already sorted by time\n",
    "train_df.drop('timestamp', axis=1, inplace=True)\n",
    "train_df.info()"
   ]
  },
  {
   "cell_type": "markdown",
   "metadata": {
    "papermill": {
     "duration": 0.015604,
     "end_time": "2020-12-11T20:15:52.644274",
     "exception": false,
     "start_time": "2020-12-11T20:15:52.628670",
     "status": "completed"
    },
    "tags": []
   },
   "source": [
    "### Feature generation"
   ]
  },
  {
   "cell_type": "code",
   "execution_count": 4,
   "metadata": {
    "execution": {
     "iopub.execute_input": "2020-12-11T20:15:52.682068Z",
     "iopub.status.busy": "2020-12-11T20:15:52.681426Z",
     "iopub.status.idle": "2020-12-11T20:15:52.685566Z",
     "shell.execute_reply": "2020-12-11T20:15:52.684845Z"
    },
    "papermill": {
     "duration": 0.025378,
     "end_time": "2020-12-11T20:15:52.685685",
     "exception": false,
     "start_time": "2020-12-11T20:15:52.660307",
     "status": "completed"
    },
    "tags": []
   },
   "outputs": [],
   "source": [
    "target = 'answered_correctly'"
   ]
  },
  {
   "cell_type": "code",
   "execution_count": 5,
   "metadata": {
    "execution": {
     "iopub.execute_input": "2020-12-11T20:15:52.732702Z",
     "iopub.status.busy": "2020-12-11T20:15:52.731932Z",
     "iopub.status.idle": "2020-12-11T20:15:52.838326Z",
     "shell.execute_reply": "2020-12-11T20:15:52.837516Z"
    },
    "papermill": {
     "duration": 0.133872,
     "end_time": "2020-12-11T20:15:52.838447",
     "exception": false,
     "start_time": "2020-12-11T20:15:52.704575",
     "status": "completed"
    },
    "tags": []
   },
   "outputs": [
    {
     "name": "stdout",
     "output_type": "stream",
     "text": [
      "<class 'pandas.core.frame.DataFrame'>\n",
      "RangeIndex: 13523 entries, 0 to 13522\n",
      "Data columns (total 3 columns):\n",
      " #   Column      Non-Null Count  Dtype  \n",
      "---  ------      --------------  -----  \n",
      " 0   content_id  13523 non-null  int64  \n",
      " 1   sum         13523 non-null  float64\n",
      " 2   count       13523 non-null  int64  \n",
      "dtypes: float64(1), int64(2)\n",
      "memory usage: 317.1 KB\n"
     ]
    }
   ],
   "source": [
    "# https://www.kaggle.com/shoheiazuma/riiid-lgbm-starter\n",
    "# This notebook helped me create features that didn't leak future information, which was very helpful\n",
    "content_agg = pd.read_feather('/kaggle/input/riid-with-attempts-feather/content_agg_feather')\n",
    "content_agg.info()"
   ]
  },
  {
   "cell_type": "code",
   "execution_count": 6,
   "metadata": {
    "execution": {
     "iopub.execute_input": "2020-12-11T20:15:52.885959Z",
     "iopub.status.busy": "2020-12-11T20:15:52.880698Z",
     "iopub.status.idle": "2020-12-11T20:16:27.206558Z",
     "shell.execute_reply": "2020-12-11T20:16:27.207280Z"
    },
    "papermill": {
     "duration": 34.352691,
     "end_time": "2020-12-11T20:16:27.207487",
     "exception": false,
     "start_time": "2020-12-11T20:15:52.854796",
     "status": "completed"
    },
    "tags": []
   },
   "outputs": [
    {
     "name": "stdout",
     "output_type": "stream",
     "text": [
      "<class 'pandas.core.frame.DataFrame'>\n",
      "Int64Index: 99271300 entries, 0 to 99271299\n",
      "Data columns (total 15 columns):\n",
      " #   Column                          Dtype  \n",
      "---  ------                          -----  \n",
      " 0   user_id                         int32  \n",
      " 1   content_id                      int16  \n",
      " 2   answered_correctly              int8   \n",
      " 3   prior_question_elapsed_time     float32\n",
      " 4   prior_question_had_explanation  bool   \n",
      " 5   attempts                        int8   \n",
      " 6   user_correctness                float32\n",
      " 7   user_count                      int16  \n",
      " 8   content_correctness             float32\n",
      " 9   content_count                   int32  \n",
      " 10  hmean_user_content              float32\n",
      " 11  bundle_id                       int16  \n",
      " 12  part                            int8   \n",
      " 13  tags2                           uint16 \n",
      " 14  tags3                           uint16 \n",
      "dtypes: bool(1), float32(4), int16(3), int32(2), int8(3), uint16(2)\n",
      "memory usage: 4.3 GB\n",
      "CPU times: user 25.5 s, sys: 8.96 s, total: 34.4 s\n",
      "Wall time: 34.3 s\n"
     ]
    }
   ],
   "source": [
    "%%time\n",
    "questions_df = pd.read_csv(\n",
    "    '../input/riiid-test-answer-prediction/questions.csv', \n",
    "    usecols=[0, 1, 3, 4],\n",
    "    dtype={'question_id': 'int16', 'bundle_id': 'int16', 'part': 'int8', 'tags': 'object'}\n",
    ")\n",
    "\n",
    "# Split the tags into their own individual columns\n",
    "tags = questions_df['tags'].str.split(' ', n=10, expand=True)\n",
    "tags.columns = ['tags1', 'tags2', 'tags3', 'tags4', 'tags5', 'tags6']\n",
    "# Drop the original tags column plus unimportant tags from feature importance\n",
    "questions_df.drop(['tags'], axis=1, inplace=True)\n",
    "# While investgating feature importance, tags2 and tags3 seemed to be the most useful. \n",
    "tags.drop(['tags1', 'tags4', 'tags5', 'tags6'], axis=1, inplace=True)\n",
    "# Concat the individual tag columns\n",
    "questions_df = pd.concat([questions_df, tags], axis=1)\n",
    "\n",
    "questions_df['tags2'] = pd.to_numeric(questions_df['tags2'], errors='coerce',downcast='integer').fillna(-1)\n",
    "questions_df['tags3'] = pd.to_numeric(questions_df['tags3'], errors='coerce',downcast='integer').fillna(-1)\n",
    "questions_df['tags2'] = questions_df['tags2'].astype('uint16')\n",
    "questions_df['tags3'] = questions_df['tags3'].astype('uint16')\n",
    "\n",
    "train_df = pd.merge(train_df, questions_df, left_on='content_id', right_on='question_id', how='left')\n",
    "train_df.drop(columns=['question_id'], inplace=True)\n",
    "\n",
    "# del questions_df\n",
    "del tags\n",
    "gc.collect()\n",
    "train_df.info()"
   ]
  },
  {
   "cell_type": "code",
   "execution_count": 7,
   "metadata": {
    "execution": {
     "iopub.execute_input": "2020-12-11T20:16:27.250267Z",
     "iopub.status.busy": "2020-12-11T20:16:27.249580Z",
     "iopub.status.idle": "2020-12-11T20:16:27.254332Z",
     "shell.execute_reply": "2020-12-11T20:16:27.253772Z"
    },
    "papermill": {
     "duration": 0.027194,
     "end_time": "2020-12-11T20:16:27.254453",
     "exception": false,
     "start_time": "2020-12-11T20:16:27.227259",
     "status": "completed"
    },
    "tags": []
   },
   "outputs": [],
   "source": [
    "cat = ['part', 'tags2', 'tags3', 'bundle_id']\n",
    "cont = ['user_count', 'user_correctness', 'content_count', 'content_correctness', 'prior_question_elapsed_time', \n",
    "        'attempts', 'hmean_user_content']\n",
    "\n",
    "features = cat + cont"
   ]
  },
  {
   "cell_type": "code",
   "execution_count": 8,
   "metadata": {
    "execution": {
     "iopub.execute_input": "2020-12-11T20:16:27.296827Z",
     "iopub.status.busy": "2020-12-11T20:16:27.296054Z",
     "iopub.status.idle": "2020-12-11T20:16:27.300014Z",
     "shell.execute_reply": "2020-12-11T20:16:27.299490Z"
    },
    "papermill": {
     "duration": 0.028855,
     "end_time": "2020-12-11T20:16:27.300155",
     "exception": false,
     "start_time": "2020-12-11T20:16:27.271300",
     "status": "completed"
    },
    "tags": []
   },
   "outputs": [],
   "source": [
    "def replace_na(x):\n",
    "    x = x.replace([np.inf, -np.inf], np.nan)\n",
    "\n",
    "    x['tags2'].fillna(255, inplace=True)\n",
    "    x['tags3'].fillna(255, inplace=True)\n",
    "\n",
    "    return x.fillna(0)"
   ]
  },
  {
   "cell_type": "code",
   "execution_count": 9,
   "metadata": {
    "execution": {
     "iopub.execute_input": "2020-12-11T20:16:27.600160Z",
     "iopub.status.busy": "2020-12-11T20:16:27.599482Z",
     "iopub.status.idle": "2020-12-11T20:16:31.939619Z",
     "shell.execute_reply": "2020-12-11T20:16:31.940110Z"
    },
    "papermill": {
     "duration": 4.623069,
     "end_time": "2020-12-11T20:16:31.940300",
     "exception": false,
     "start_time": "2020-12-11T20:16:27.317231",
     "status": "completed"
    },
    "tags": []
   },
   "outputs": [
    {
     "name": "stdout",
     "output_type": "stream",
     "text": [
      "<class 'pandas.core.frame.DataFrame'>\n",
      "Int64Index: 99271300 entries, 0 to 99271299\n",
      "Data columns (total 12 columns):\n",
      " #   Column                       Dtype  \n",
      "---  ------                       -----  \n",
      " 0   part                         int8   \n",
      " 1   tags2                        uint16 \n",
      " 2   tags3                        uint16 \n",
      " 3   bundle_id                    int16  \n",
      " 4   user_count                   int16  \n",
      " 5   user_correctness             float32\n",
      " 6   content_count                int32  \n",
      " 7   content_correctness          float32\n",
      " 8   prior_question_elapsed_time  float32\n",
      " 9   attempts                     int8   \n",
      " 10  hmean_user_content           float32\n",
      " 11  answered_correctly           int8   \n",
      "dtypes: float32(4), int16(2), int32(1), int8(3), uint16(2)\n",
      "memory usage: 3.6 GB\n"
     ]
    }
   ],
   "source": [
    "# Get rid of all the columns we won't be needing\n",
    "train_df = train_df[features + [target]]\n",
    "train_df = replace_na(train_df)\n",
    "train_df.info()"
   ]
  },
  {
   "cell_type": "code",
   "execution_count": 10,
   "metadata": {
    "execution": {
     "iopub.execute_input": "2020-12-11T20:16:31.986475Z",
     "iopub.status.busy": "2020-12-11T20:16:31.985626Z",
     "iopub.status.idle": "2020-12-11T20:16:33.781558Z",
     "shell.execute_reply": "2020-12-11T20:16:33.782050Z"
    },
    "papermill": {
     "duration": 1.824172,
     "end_time": "2020-12-11T20:16:33.782243",
     "exception": false,
     "start_time": "2020-12-11T20:16:31.958071",
     "status": "completed"
    },
    "tags": []
   },
   "outputs": [
    {
     "name": "stdout",
     "output_type": "stream",
     "text": [
      "<class 'pandas.core.frame.DataFrame'>\n",
      "RangeIndex: 24817825 entries, 0 to 24817824\n",
      "Data columns (total 12 columns):\n",
      " #   Column                       Dtype  \n",
      "---  ------                       -----  \n",
      " 0   part                         int8   \n",
      " 1   tags2                        uint16 \n",
      " 2   tags3                        uint16 \n",
      " 3   bundle_id                    int16  \n",
      " 4   user_count                   int16  \n",
      " 5   user_correctness             float32\n",
      " 6   content_count                int32  \n",
      " 7   content_correctness          float32\n",
      " 8   prior_question_elapsed_time  float32\n",
      " 9   attempts                     int8   \n",
      " 10  hmean_user_content           float32\n",
      " 11  answered_correctly           int8   \n",
      "dtypes: float32(4), int16(2), int32(1), int8(3), uint16(2)\n",
      "memory usage: 733.7 MB\n"
     ]
    }
   ],
   "source": [
    "# I use the last quarter of the data to train on, with the last tenth of that as validation. Given time and spatial restrictions, this seems the most useful\n",
    "thresh = int(0.75 * len(train_df))\n",
    "train_df = train_df.iloc[thresh:].reset_index(drop=True)\n",
    "train_range = list(range(len(train_df) - int(len(train_df) / 10)))\n",
    "valid_range = list(range(len(train_df) - int(len(train_df) / 10), len(train_df)))\n",
    "splits = (train_range, valid_range)\n",
    "\n",
    "gc.collect()\n",
    "train_df.info()"
   ]
  },
  {
   "cell_type": "code",
   "execution_count": 11,
   "metadata": {
    "execution": {
     "iopub.execute_input": "2020-12-11T20:16:33.825523Z",
     "iopub.status.busy": "2020-12-11T20:16:33.824635Z",
     "iopub.status.idle": "2020-12-11T20:16:54.507734Z",
     "shell.execute_reply": "2020-12-11T20:16:54.508520Z"
    },
    "papermill": {
     "duration": 20.70865,
     "end_time": "2020-12-11T20:16:54.508699",
     "exception": false,
     "start_time": "2020-12-11T20:16:33.800049",
     "status": "completed"
    },
    "tags": []
   },
   "outputs": [
    {
     "name": "stdout",
     "output_type": "stream",
     "text": [
      "CPU times: user 17.8 s, sys: 3.67 s, total: 21.5 s\n",
      "Wall time: 20.7 s\n"
     ]
    }
   ],
   "source": [
    "%%time\n",
    "\n",
    "EPOCHS=5\n",
    "BATCH_SIZE=2048\n",
    "\n",
    "pd.options.mode.chained_assignment=None\n",
    "to = TabularPandas(train_df, [Categorify, Normalize, FillMissing], cat, cont, target, splits=splits, inplace=True)\n",
    "dls = to.dataloaders(BATCH_SIZE)"
   ]
  },
  {
   "cell_type": "code",
   "execution_count": 12,
   "metadata": {
    "execution": {
     "iopub.execute_input": "2020-12-11T20:16:54.576777Z",
     "iopub.status.busy": "2020-12-11T20:16:54.576076Z",
     "iopub.status.idle": "2020-12-11T22:10:33.648662Z",
     "shell.execute_reply": "2020-12-11T22:10:33.647787Z"
    },
    "papermill": {
     "duration": 6819.111161,
     "end_time": "2020-12-11T22:10:33.648819",
     "exception": false,
     "start_time": "2020-12-11T20:16:54.537658",
     "status": "completed"
    },
    "tags": []
   },
   "outputs": [
    {
     "data": {
      "text/html": [],
      "text/plain": [
       "<IPython.core.display.HTML object>"
      ]
     },
     "metadata": {},
     "output_type": "display_data"
    },
    {
     "data": {
      "text/html": [
       "<table border=\"1\" class=\"dataframe\">\n",
       "  <thead>\n",
       "    <tr style=\"text-align: left;\">\n",
       "      <th>epoch</th>\n",
       "      <th>train_loss</th>\n",
       "      <th>valid_loss</th>\n",
       "      <th>my_auc</th>\n",
       "      <th>time</th>\n",
       "    </tr>\n",
       "  </thead>\n",
       "  <tbody>\n",
       "    <tr>\n",
       "      <td>0</td>\n",
       "      <td>0.179579</td>\n",
       "      <td>0.176318</td>\n",
       "      <td>0.765313</td>\n",
       "      <td>22:38</td>\n",
       "    </tr>\n",
       "    <tr>\n",
       "      <td>1</td>\n",
       "      <td>0.178399</td>\n",
       "      <td>0.175412</td>\n",
       "      <td>0.768040</td>\n",
       "      <td>22:18</td>\n",
       "    </tr>\n",
       "    <tr>\n",
       "      <td>2</td>\n",
       "      <td>0.176582</td>\n",
       "      <td>0.175136</td>\n",
       "      <td>0.768540</td>\n",
       "      <td>22:25</td>\n",
       "    </tr>\n",
       "    <tr>\n",
       "      <td>3</td>\n",
       "      <td>0.176639</td>\n",
       "      <td>0.174951</td>\n",
       "      <td>0.768784</td>\n",
       "      <td>22:34</td>\n",
       "    </tr>\n",
       "    <tr>\n",
       "      <td>4</td>\n",
       "      <td>0.175678</td>\n",
       "      <td>0.175027</td>\n",
       "      <td>0.768566</td>\n",
       "      <td>22:30</td>\n",
       "    </tr>\n",
       "  </tbody>\n",
       "</table>"
      ],
      "text/plain": [
       "<IPython.core.display.HTML object>"
      ]
     },
     "metadata": {},
     "output_type": "display_data"
    },
    {
     "data": {
      "image/png": "[encoded data removed]",
      "text/plain": [
       "<Figure size 432x288 with 1 Axes>"
      ]
     },
     "metadata": {
      "needs_background": "light"
     },
     "output_type": "display_data"
    }
   ],
   "source": [
    "# https://www.kaggle.com/gilfernandes/fastai-single-nn\n",
    "# my_auc and predict_batch are both from this kernel\n",
    "def my_auc(inp, targ):\n",
    "    \"Simple wrapper around scikit's roc_auc_score function for regression problems\"\n",
    "    inp,targ = flatten_check(inp,targ)\n",
    "    return roc_auc_score(targ.cpu().numpy(), inp.cpu().numpy())\n",
    "\n",
    "learn = tabular_learner(dls, layers=[200,200], metrics=my_auc)\n",
    "\n",
    "lr_find_res = learn.lr_find()\n",
    "\n",
    "learn.fit_one_cycle(EPOCHS, lr_find_res.lr_min / 10)"
   ]
  },
  {
   "cell_type": "code",
   "execution_count": 13,
   "metadata": {
    "execution": {
     "iopub.execute_input": "2020-12-11T22:10:33.717216Z",
     "iopub.status.busy": "2020-12-11T22:10:33.716658Z",
     "iopub.status.idle": "2020-12-11T22:10:33.720671Z",
     "shell.execute_reply": "2020-12-11T22:10:33.720031Z"
    },
    "papermill": {
     "duration": 0.041523,
     "end_time": "2020-12-11T22:10:33.720796",
     "exception": false,
     "start_time": "2020-12-11T22:10:33.679273",
     "status": "completed"
    },
    "tags": []
   },
   "outputs": [],
   "source": [
    "def predict_batch(self, df):\n",
    "    dl = self.dls.test_dl(df)\n",
    "    dl.dataset.conts = dl.dataset.conts.astype(np.float32)\n",
    "    inp,preds,_,dec_preds = self.get_preds(dl=dl, with_input=True, with_decoded=True)\n",
    "    return preds.numpy()\n",
    "\n",
    "setattr(learn, 'predict_batch', predict_batch)"
   ]
  },
  {
   "cell_type": "code",
   "execution_count": 14,
   "metadata": {
    "execution": {
     "iopub.execute_input": "2020-12-11T22:10:38.791513Z",
     "iopub.status.busy": "2020-12-11T22:10:38.790474Z",
     "iopub.status.idle": "2020-12-11T22:10:38.795292Z",
     "shell.execute_reply": "2020-12-11T22:10:38.795869Z"
    },
    "papermill": {
     "duration": 5.054457,
     "end_time": "2020-12-11T22:10:38.796032",
     "exception": false,
     "start_time": "2020-12-11T22:10:33.741575",
     "status": "completed"
    },
    "tags": []
   },
   "outputs": [
    {
     "data": {
      "text/plain": [
       "11100"
      ]
     },
     "execution_count": 14,
     "metadata": {},
     "output_type": "execute_result"
    }
   ],
   "source": [
    "del dls\n",
    "del to\n",
    "del train_df\n",
    "gc.collect()"
   ]
  },
  {
   "cell_type": "code",
   "execution_count": 15,
   "metadata": {
    "execution": {
     "iopub.execute_input": "2020-12-11T22:10:38.843182Z",
     "iopub.status.busy": "2020-12-11T22:10:38.842649Z",
     "iopub.status.idle": "2020-12-11T22:11:10.156086Z",
     "shell.execute_reply": "2020-12-11T22:11:10.156650Z"
    },
    "papermill": {
     "duration": 31.337925,
     "end_time": "2020-12-11T22:11:10.156802",
     "exception": false,
     "start_time": "2020-12-11T22:10:38.818877",
     "status": "completed"
    },
    "tags": []
   },
   "outputs": [
    {
     "name": "stdout",
     "output_type": "stream",
     "text": [
      "<class 'pandas.core.frame.DataFrame'>\n",
      "RangeIndex: 99271300 entries, 0 to 99271299\n",
      "Data columns (total 3 columns):\n",
      " #   Column              Dtype\n",
      "---  ------              -----\n",
      " 0   user_id             int32\n",
      " 1   content_id          int16\n",
      " 2   answered_correctly  int8 \n",
      "dtypes: int16(1), int32(1), int8(1)\n",
      "memory usage: 662.7 MB\n",
      "CPU times: user 16.2 s, sys: 15.1 s, total: 31.3 s\n",
      "Wall time: 31.3 s\n"
     ]
    }
   ],
   "source": [
    "%%time\n",
    "train_df = pd.read_feather('/kaggle/input/riid-with-attempts-feather/train_with_attempts')\n",
    "train_df = train_df.loc[train_df['answered_correctly'] != -1]\n",
    "train_df.sort_values('timestamp', inplace=True)\n",
    "train_df.drop(['prior_question_had_explanation', 'prior_question_elapsed_time', 'timestamp', 'attempts', \n",
    "               'user_correctness', 'user_count', 'content_correctness', 'content_count', 'hmean_user_content'], axis=1, inplace=True)\n",
    "train_df.reset_index(drop=True, inplace=True)\n",
    "gc.collect()\n",
    "train_df.info()"
   ]
  },
  {
   "cell_type": "code",
   "execution_count": 16,
   "metadata": {
    "execution": {
     "iopub.execute_input": "2020-12-11T22:11:10.216090Z",
     "iopub.status.busy": "2020-12-11T22:11:10.215234Z",
     "iopub.status.idle": "2020-12-11T22:15:08.764397Z",
     "shell.execute_reply": "2020-12-11T22:15:08.763778Z"
    },
    "papermill": {
     "duration": 238.58565,
     "end_time": "2020-12-11T22:15:08.764512",
     "exception": false,
     "start_time": "2020-12-11T22:11:10.178862",
     "status": "completed"
    },
    "tags": []
   },
   "outputs": [
    {
     "data": {
      "application/vnd.jupyter.widget-view+json": {
       "model_id": "feae0e1db38a4b0c8fe944447a2b29c1",
       "version_major": 2,
       "version_minor": 0
      },
      "text/plain": [
       "HBox(children=(FloatProgress(value=0.0, max=393656.0), HTML(value='')))"
      ]
     },
     "metadata": {},
     "output_type": "display_data"
    },
    {
     "name": "stdout",
     "output_type": "stream",
     "text": [
      "\n",
      "CPU times: user 3min 46s, sys: 13 s, total: 3min 59s\n",
      "Wall time: 3min 58s\n"
     ]
    },
    {
     "data": {
      "text/plain": [
       "0"
      ]
     },
     "execution_count": 16,
     "metadata": {},
     "output_type": "execute_result"
    }
   ],
   "source": [
    "%%time\n",
    "# https://www.kaggle.com/markwijkhuizen/riiid-training-and-prediction-using-a-state\n",
    "# This is an altered piece from that notebook to be keep track of user states\n",
    "\n",
    "# Creates a dictionary of dictionaries for each user and their attributes\n",
    "def user_states(df):\n",
    "    mean_user_accuracy = train_df.groupby('user_id')[target].mean().values\n",
    "    answered_correctly_user = train_df.groupby('user_id')[target].sum().values\n",
    "    answered_user = train_df.groupby('user_id')[target].count().values  \n",
    "\n",
    "    state = dict()\n",
    "    for user_id in train_df['user_id'].sort_values().unique():\n",
    "        state[user_id] = {}\n",
    "    total = len(state.keys())\n",
    "\n",
    "    user_content = train_df.groupby('user_id')['content_id'].apply(np.array).apply(np.sort).apply(np.unique)\n",
    "    # The number of attempts made for each of those unique combinations\n",
    "    user_attempts = train_df.groupby(['user_id', 'content_id'])[target].count().astype(np.uint8).groupby('user_id').apply(np.array).values\n",
    "\n",
    "    for user_id, content, attempt in tqdm(zip(state.keys(), user_content, user_attempts),total=total):\n",
    "        state[user_id]['user_content_attempts'] = dict(zip(content, attempt))\n",
    "\n",
    "    del user_content, user_attempts\n",
    "    gc.collect()\n",
    "\n",
    "    for idx, user_id in enumerate(state.keys()):\n",
    "        state[user_id]['user_correctness'] = mean_user_accuracy[idx]\n",
    "        state[user_id]['user_sum'] = answered_correctly_user[idx]\n",
    "        state[user_id]['user_count'] = answered_user[idx]\n",
    "        \n",
    "    return state\n",
    "  \n",
    "user_states = user_states(train_df)\n",
    "del train_df\n",
    "gc.collect()"
   ]
  },
  {
   "cell_type": "code",
   "execution_count": 17,
   "metadata": {
    "execution": {
     "iopub.execute_input": "2020-12-11T22:15:08.816952Z",
     "iopub.status.busy": "2020-12-11T22:15:08.816331Z",
     "iopub.status.idle": "2020-12-11T22:15:08.941770Z",
     "shell.execute_reply": "2020-12-11T22:15:08.941165Z"
    },
    "papermill": {
     "duration": 0.154148,
     "end_time": "2020-12-11T22:15:08.941889",
     "exception": false,
     "start_time": "2020-12-11T22:15:08.787741",
     "status": "completed"
    },
    "tags": []
   },
   "outputs": [],
   "source": [
    "import riiideducation\n",
    "\n",
    "env = riiideducation.make_env()\n",
    "\n",
    "iter_test = env.iter_test()\n",
    "prior_test_df = None"
   ]
  },
  {
   "cell_type": "code",
   "execution_count": 18,
   "metadata": {
    "execution": {
     "iopub.execute_input": "2020-12-11T22:15:09.006337Z",
     "iopub.status.busy": "2020-12-11T22:15:09.005699Z",
     "iopub.status.idle": "2020-12-11T22:15:09.009281Z",
     "shell.execute_reply": "2020-12-11T22:15:09.007925Z"
    },
    "papermill": {
     "duration": 0.043757,
     "end_time": "2020-12-11T22:15:09.009445",
     "exception": false,
     "start_time": "2020-12-11T22:15:08.965688",
     "status": "completed"
    },
    "tags": []
   },
   "outputs": [],
   "source": [
    "content_sum_dict = content_agg['sum'].astype('int32').to_dict(defaultdict(int))\n",
    "content_count_dict = content_agg['count'].astype('int32').to_dict(defaultdict(int))"
   ]
  },
  {
   "cell_type": "code",
   "execution_count": 19,
   "metadata": {
    "execution": {
     "iopub.execute_input": "2020-12-11T22:15:09.063686Z",
     "iopub.status.busy": "2020-12-11T22:15:09.062925Z",
     "iopub.status.idle": "2020-12-11T22:15:10.416747Z",
     "shell.execute_reply": "2020-12-11T22:15:10.417409Z"
    },
    "papermill": {
     "duration": 1.383737,
     "end_time": "2020-12-11T22:15:10.417562",
     "exception": false,
     "start_time": "2020-12-11T22:15:09.033825",
     "status": "completed"
    },
    "tags": []
   },
   "outputs": [
    {
     "name": "stderr",
     "output_type": "stream",
     "text": [
      "/opt/conda/lib/python3.7/site-packages/ipykernel_launcher.py:53: RuntimeWarning: invalid value encountered in true_divide\n"
     ]
    },
    {
     "data": {
      "text/html": [],
      "text/plain": [
       "<IPython.core.display.HTML object>"
      ]
     },
     "metadata": {},
     "output_type": "display_data"
    },
    {
     "data": {
      "text/html": [],
      "text/plain": [
       "<IPython.core.display.HTML object>"
      ]
     },
     "metadata": {},
     "output_type": "display_data"
    },
    {
     "data": {
      "text/html": [],
      "text/plain": [
       "<IPython.core.display.HTML object>"
      ]
     },
     "metadata": {},
     "output_type": "display_data"
    },
    {
     "data": {
      "text/html": [],
      "text/plain": [
       "<IPython.core.display.HTML object>"
      ]
     },
     "metadata": {},
     "output_type": "display_data"
    }
   ],
   "source": [
    "# https://www.kaggle.com/shoheiazuma/riiid-lgbm-starter\n",
    "# The skeleton for this inference part was taken from the above notebook, including a number of modifications.\n",
    "\n",
    "for (test_df, sample_prediction_df) in iter_test:\n",
    "    y_preds = []\n",
    "    \n",
    "    # If test_df includes information about the previous chunk of data, update our states to reflect that\n",
    "    if prior_test_df is not None:   \n",
    "        prior_test_df[target] = eval(test_df['prior_group_answers_correct'].iloc[0])\n",
    "        prior_test_df = prior_test_df[prior_test_df[target] != -1].reset_index(drop=True)\n",
    "        \n",
    "        user_ids = prior_test_df['user_id'].values\n",
    "        content_ids = prior_test_df['content_id'].values\n",
    "        targets = prior_test_df[target].values\n",
    "        \n",
    "        for user_id, content_id, answered_correctly in zip(user_ids, content_ids, targets):\n",
    "            user_states[user_id]['user_sum'] += answered_correctly\n",
    "            user_states[user_id]['user_count'] += 1\n",
    "            user_states[user_id]['user_content_attempts'][content_id] += 1\n",
    "            content_sum_dict[content_id] += answered_correctly\n",
    "            content_count_dict[content_id] += 1\n",
    "      \n",
    "    prior_test_df = test_df.copy()\n",
    "    \n",
    "    test_df = test_df[test_df['content_type_id'] == 0].reset_index(drop=True)\n",
    "    \n",
    "    test_df = pd.merge(test_df, questions_df, left_on='content_id', right_on='question_id', how='left')\n",
    "    \n",
    "    user_sum = np.zeros(len(test_df), dtype=np.int16)\n",
    "    user_count = np.zeros(len(test_df), dtype=np.int16)\n",
    "    content_sum = np.zeros(len(test_df), dtype=np.int32)\n",
    "    content_count = np.zeros(len(test_df), dtype=np.int32)\n",
    "    user_content_attempts = np.zeros(len(test_df), dtype=np.int8)\n",
    "    \n",
    "    for i, (user_id, content_id) in enumerate(zip(test_df['user_id'].values, test_df['content_id'].values)):\n",
    "        # Handle new users and questions\n",
    "        if user_id not in user_states.keys():\n",
    "            user_states[user_id] = {'user_content_attempts':{user_id:0}, \n",
    "                                    'user_correctness':0, \n",
    "                                    'user_count':0, \n",
    "                                    'user_sum':0}\n",
    "            \n",
    "        if content_id not in user_states[user_id]['user_content_attempts'].keys():\n",
    "            user_states[user_id]['user_content_attempts'][content_id] = 0\n",
    "            \n",
    "        user_sum[i] = user_states[user_id]['user_sum']\n",
    "        user_count[i] = user_states[user_id]['user_count']\n",
    "        user_content_attempts[i] = user_states[user_id]['user_content_attempts'][content_id]\n",
    "\n",
    "        content_sum[i] = content_sum_dict[content_id]\n",
    "        content_count[i] = content_count_dict[content_id]\n",
    " \n",
    "    test_df['user_correctness'] = user_sum / user_count\n",
    "    test_df['user_count'] = user_count\n",
    "    \n",
    "    test_df['content_count'] = content_count\n",
    "    test_df['content_correctness'] = content_sum / content_count\n",
    "    test_df['attempts'] = user_content_attempts\n",
    "    test_df['hmean_user_content'] = 2 * (\n",
    "                                            (test_df['user_correctness'] * test_df['content_correctness']) /\n",
    "                                            (test_df['user_correctness'] + test_df['content_correctness'])\n",
    "                                        ).astype('float32')\n",
    "\n",
    "    test_df = replace_na(test_df)\n",
    "    test_df[target] = learn.predict_batch(learn, test_df[features])\n",
    "\n",
    "    env.predict(test_df.loc[test_df['content_type_id'] == 0, ['row_id', 'answered_correctly']])"
   ]
  }
 ],
 "metadata": {
  "kernelspec": {
   "display_name": "Python 3",
   "language": "python",
   "name": "python3"
  },
  "language_info": {
   "codemirror_mode": {
    "name": "ipython",
    "version": 3
   },
   "file_extension": ".py",
   "mimetype": "text/x-python",
   "name": "python",
   "nbconvert_exporter": "python",
   "pygments_lexer": "ipython3",
   "version": "3.7.6"
  },
  "papermill": {
   "duration": 7194.065988,
   "end_time": "2020-12-11T22:15:12.253767",
   "environment_variables": {},
   "exception": null,
   "input_path": "__notebook__.ipynb",
   "output_path": "__notebook__.ipynb",
   "parameters": {},
   "start_time": "2020-12-11T20:15:18.187779",
   "version": "2.1.0"
  },
  "widgets": {
   "application/vnd.jupyter.widget-state+json": {
    "state": {
     "1b1995bae87942f1b12aebf1185f77e2": {
      "model_module": "@jupyter-widgets/base",
      "model_module_version": "1.2.0",
      "model_name": "LayoutModel",
      "state": {
       "_model_module": "@jupyter-widgets/base",
       "_model_module_version": "1.2.0",
       "_model_name": "LayoutModel",
       "_view_count": null,
       "_view_module": "@jupyter-widgets/base",
       "_view_module_version": "1.2.0",
       "_view_name": "LayoutView",
       "align_content": null,
       "align_items": null,
       "align_self": null,
       "border": null,
       "bottom": null,
       "display": null,
       "flex": null,
       "flex_flow": null,
       "grid_area": null,
       "grid_auto_columns": null,
       "grid_auto_flow": null,
       "grid_auto_rows": null,
       "grid_column": null,
       "grid_gap": null,
       "grid_row": null,
       "grid_template_areas": null,
       "grid_template_columns": null,
       "grid_template_rows": null,
       "height": null,
       "justify_content": null,
       "justify_items": null,
       "left": null,
       "margin": null,
       "max_height": null,
       "max_width": null,
       "min_height": null,
       "min_width": null,
       "object_fit": null,
       "object_position": null,
       "order": null,
       "overflow": null,
       "overflow_x": null,
       "overflow_y": null,
       "padding": null,
       "right": null,
       "top": null,
       "visibility": null,
       "width": null
      }
     },
     "2cd16569c9f54b6eb26e8a16137182c0": {
      "model_module": "@jupyter-widgets/controls",
      "model_module_version": "1.5.0",
      "model_name": "DescriptionStyleModel",
      "state": {
       "_model_module": "@jupyter-widgets/controls",
       "_model_module_version": "1.5.0",
       "_model_name": "DescriptionStyleModel",
       "_view_count": null,
       "_view_module": "@jupyter-widgets/base",
       "_view_module_version": "1.2.0",
       "_view_name": "StyleView",
       "description_width": ""
      }
     },
     "58145c8cd7764d30b20c1ea097e78cbb": {
      "model_module": "@jupyter-widgets/controls",
      "model_module_version": "1.5.0",
      "model_name": "ProgressStyleModel",
      "state": {
       "_model_module": "@jupyter-widgets/controls",
       "_model_module_version": "1.5.0",
       "_model_name": "ProgressStyleModel",
       "_view_count": null,
       "_view_module": "@jupyter-widgets/base",
       "_view_module_version": "1.2.0",
       "_view_name": "StyleView",
       "bar_color": null,
       "description_width": "initial"
      }
     },
     "786df7c07b9b40f5af906328f334fa94": {
      "model_module": "@jupyter-widgets/base",
      "model_module_version": "1.2.0",
      "model_name": "LayoutModel",
      "state": {
       "_model_module": "@jupyter-widgets/base",
       "_model_module_version": "1.2.0",
       "_model_name": "LayoutModel",
       "_view_count": null,
       "_view_module": "@jupyter-widgets/base",
       "_view_module_version": "1.2.0",
       "_view_name": "LayoutView",
       "align_content": null,
       "align_items": null,
       "align_self": null,
       "border": null,
       "bottom": null,
       "display": null,
       "flex": null,
       "flex_flow": null,
       "grid_area": null,
       "grid_auto_columns": null,
       "grid_auto_flow": null,
       "grid_auto_rows": null,
       "grid_column": null,
       "grid_gap": null,
       "grid_row": null,
       "grid_template_areas": null,
       "grid_template_columns": null,
       "grid_template_rows": null,
       "height": null,
       "justify_content": null,
       "justify_items": null,
       "left": null,
       "margin": null,
       "max_height": null,
       "max_width": null,
       "min_height": null,
       "min_width": null,
       "object_fit": null,
       "object_position": null,
       "order": null,
       "overflow": null,
       "overflow_x": null,
       "overflow_y": null,
       "padding": null,
       "right": null,
       "top": null,
       "visibility": null,
       "width": null
      }
     },
     "b6e06a0636fe4f92a865a67c3b66afb1": {
      "model_module": "@jupyter-widgets/controls",
      "model_module_version": "1.5.0",
      "model_name": "FloatProgressModel",
      "state": {
       "_dom_classes": [],
       "_model_module": "@jupyter-widgets/controls",
       "_model_module_version": "1.5.0",
       "_model_name": "FloatProgressModel",
       "_view_count": null,
       "_view_module": "@jupyter-widgets/controls",
       "_view_module_version": "1.5.0",
       "_view_name": "ProgressView",
       "bar_style": "success",
       "description": "100%",
       "description_tooltip": null,
       "layout": "IPY_MODEL_cc93407d573842a79bea79cce71ab3af",
       "max": 393656.0,
       "min": 0.0,
       "orientation": "horizontal",
       "style": "IPY_MODEL_58145c8cd7764d30b20c1ea097e78cbb",
       "value": 393656.0
      }
     },
     "cc93407d573842a79bea79cce71ab3af": {
      "model_module": "@jupyter-widgets/base",
      "model_module_version": "1.2.0",
      "model_name": "LayoutModel",
      "state": {
       "_model_module": "@jupyter-widgets/base",
       "_model_module_version": "1.2.0",
       "_model_name": "LayoutModel",
       "_view_count": null,
       "_view_module": "@jupyter-widgets/base",
       "_view_module_version": "1.2.0",
       "_view_name": "LayoutView",
       "align_content": null,
       "align_items": null,
       "align_self": null,
       "border": null,
       "bottom": null,
       "display": null,
       "flex": null,
       "flex_flow": null,
       "grid_area": null,
       "grid_auto_columns": null,
       "grid_auto_flow": null,
       "grid_auto_rows": null,
       "grid_column": null,
       "grid_gap": null,
       "grid_row": null,
       "grid_template_areas": null,
       "grid_template_columns": null,
       "grid_template_rows": null,
       "height": null,
       "justify_content": null,
       "justify_items": null,
       "left": null,
       "margin": null,
       "max_height": null,
       "max_width": null,
       "min_height": null,
       "min_width": null,
       "object_fit": null,
       "object_position": null,
       "order": null,
       "overflow": null,
       "overflow_x": null,
       "overflow_y": null,
       "padding": null,
       "right": null,
       "top": null,
       "visibility": null,
       "width": null
      }
     },
     "d0999cf41e83436bb50468e1e02d274f": {
      "model_module": "@jupyter-widgets/controls",
      "model_module_version": "1.5.0",
      "model_name": "HTMLModel",
      "state": {
       "_dom_classes": [],
       "_model_module": "@jupyter-widgets/controls",
       "_model_module_version": "1.5.0",
       "_model_name": "HTMLModel",
       "_view_count": null,
       "_view_module": "@jupyter-widgets/controls",
       "_view_module_version": "1.5.0",
       "_view_name": "HTMLView",
       "description": "",
       "description_tooltip": null,
       "layout": "IPY_MODEL_1b1995bae87942f1b12aebf1185f77e2",
       "placeholder": "​",
       "style": "IPY_MODEL_2cd16569c9f54b6eb26e8a16137182c0",
       "value": " 393656/393656 [00:29&lt;00:00, 13383.19it/s]"
      }
     },
     "feae0e1db38a4b0c8fe944447a2b29c1": {
      "model_module": "@jupyter-widgets/controls",
      "model_module_version": "1.5.0",
      "model_name": "HBoxModel",
      "state": {
       "_dom_classes": [],
       "_model_module": "@jupyter-widgets/controls",
       "_model_module_version": "1.5.0",
       "_model_name": "HBoxModel",
       "_view_count": null,
       "_view_module": "@jupyter-widgets/controls",
       "_view_module_version": "1.5.0",
       "_view_name": "HBoxView",
       "box_style": "",
       "children": [
        "IPY_MODEL_b6e06a0636fe4f92a865a67c3b66afb1",
        "IPY_MODEL_d0999cf41e83436bb50468e1e02d274f"
       ],
       "layout": "IPY_MODEL_786df7c07b9b40f5af906328f334fa94"
      }
     }
    },
    "version_major": 2,
    "version_minor": 0
   }
  }
 },
 "nbformat": 4,
 "nbformat_minor": 4
}
